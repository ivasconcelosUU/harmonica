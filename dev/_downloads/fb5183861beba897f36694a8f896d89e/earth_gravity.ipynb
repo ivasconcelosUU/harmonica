{
  "cells": [
    {
      "cell_type": "code",
      "execution_count": null,
      "metadata": {
        "collapsed": false
      },
      "outputs": [],
      "source": [
        "%matplotlib inline"
      ]
    },
    {
      "cell_type": "markdown",
      "metadata": {},
      "source": [
        "\nEarth Gravity\n=============\n\nThis is the magnitude of the gravity vector of the Earth (gravitational + centrifugal)\nat 10 km height. The data is on a regular grid with 0.5 degree spacing at 10km\nellipsoidal height. It was generated from the spherical harmonic model EIGEN-6C4\n[Forste_etal2014]_.\n\n"
      ]
    },
    {
      "cell_type": "code",
      "execution_count": null,
      "metadata": {
        "collapsed": false
      },
      "outputs": [],
      "source": [
        "import matplotlib.pyplot as plt\nimport cartopy.crs as ccrs\nimport harmonica as hm\n\n# Load the gravity grid\ndata = hm.datasets.fetch_gravity_earth()\nprint(data)\n\n# Make a plot of data using Cartopy\nplt.figure(figsize=(10, 10))\nax = plt.axes(projection=ccrs.Orthographic(central_longitude=150))\npc = data.gravity.plot.pcolormesh(\n    ax=ax, transform=ccrs.PlateCarree(), add_colorbar=False\n)\nplt.colorbar(\n    pc, label=\"mGal\", orientation=\"horizontal\", aspect=50, pad=0.01, shrink=0.6\n)\nax.set_title(\"Gravity of the Earth (EIGEN-6C4)\")\nax.coastlines()\nplt.tight_layout()\nplt.show()"
      ]
    }
  ],
  "metadata": {
    "kernelspec": {
      "display_name": "Python 3",
      "language": "python",
      "name": "python3"
    },
    "language_info": {
      "codemirror_mode": {
        "name": "ipython",
        "version": 3
      },
      "file_extension": ".py",
      "mimetype": "text/x-python",
      "name": "python",
      "nbconvert_exporter": "python",
      "pygments_lexer": "ipython3",
      "version": "3.6.7"
    }
  },
  "nbformat": 4,
  "nbformat_minor": 0
}