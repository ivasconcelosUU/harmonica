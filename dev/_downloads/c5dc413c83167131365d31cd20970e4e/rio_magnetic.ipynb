{
  "cells": [
    {
      "cell_type": "code",
      "execution_count": null,
      "metadata": {
        "collapsed": false
      },
      "outputs": [],
      "source": [
        "%matplotlib inline"
      ]
    },
    {
      "cell_type": "markdown",
      "metadata": {},
      "source": [
        "\nTotal Field Magnetic Anomaly from Rio de Janeiro\n================================================\n\nA subsection from an airborne survey of the state of Rio de Janeiro, Brazil, conducted\nin 1978. The data are stored in a :class:`pandas.DataFrame` with columns: longitude,\nlatitude, total field anomaly (nanoTesla), observation height above the WGS84 ellipsoid\n(meters), type of flight line (LINE or TIE), and flight line number. See the\ndocumentation for :func:`harmonica.datasets.fetch_rio_magnetic` for more information.\n\n"
      ]
    },
    {
      "cell_type": "code",
      "execution_count": null,
      "metadata": {
        "collapsed": false
      },
      "outputs": [],
      "source": [
        "import matplotlib.pyplot as plt\nimport cartopy.crs as ccrs\nimport verde as vd\nimport harmonica as hm\n\n# Fetch the data in a pandas.DataFrame\ndata = hm.datasets.fetch_rio_magnetic()\nprint(data)\n\n# Plot the observations in a Mercator map using Cartopy\nfig = plt.figure(figsize=(10, 6))\nax = plt.axes(projection=ccrs.Mercator())\nax.set_title(\"Magnetic data from Rio de Janeiro\", pad=25)\nmaxabs = vd.maxabs(data.total_field_anomaly_nt)\ntmp = ax.scatter(\n    data.longitude,\n    data.latitude,\n    c=data.total_field_anomaly_nt,\n    s=0.8,\n    cmap=\"seismic\",\n    vmin=-maxabs,\n    vmax=maxabs,\n    transform=ccrs.PlateCarree(),\n)\nplt.colorbar(\n    tmp,\n    ax=ax,\n    label=\"total field magnetic anomaly [nT]\",\n    orientation=\"horizontal\",\n    aspect=50,\n    shrink=0.7,\n    pad=0.06,\n)\nax.set_extent(vd.get_region((data.longitude, data.latitude)))\nax.gridlines(draw_labels=True)\nplt.tight_layout()\nplt.show()"
      ]
    }
  ],
  "metadata": {
    "kernelspec": {
      "display_name": "Python 3",
      "language": "python",
      "name": "python3"
    },
    "language_info": {
      "codemirror_mode": {
        "name": "ipython",
        "version": 3
      },
      "file_extension": ".py",
      "mimetype": "text/x-python",
      "name": "python",
      "nbconvert_exporter": "python",
      "pygments_lexer": "ipython3",
      "version": "3.6.7"
    }
  },
  "nbformat": 4,
  "nbformat_minor": 0
}