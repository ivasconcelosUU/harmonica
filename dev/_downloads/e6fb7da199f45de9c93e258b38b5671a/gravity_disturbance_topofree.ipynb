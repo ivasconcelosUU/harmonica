{
  "cells": [
    {
      "cell_type": "code",
      "execution_count": null,
      "metadata": {
        "collapsed": false
      },
      "outputs": [],
      "source": [
        "%matplotlib inline"
      ]
    },
    {
      "cell_type": "markdown",
      "metadata": {},
      "source": [
        "\nTopography-free (Bouguer) Gravity Disturbances\n==============================================\n\nThe gravity disturbance is the observed gravity minus the normal gravity\n(:func:`harmonica.normal_gravity`). The signal that is left is assumed to be due to the\ndifferences between the actual Earth and the reference ellipsoid. Big components in\nthis signal are the effects of topographic masses outside of the ellipsoid and\nresidual effects of the oceans (we removed ellipsoid crust where there was actually\nocean water). These two components are relatively well known and can be removed from the\ngravity disturbance. The simplest way of calculating the effects of topography and\noceans is through the Bouguer plate approximation.\n\nWe'll use :func:`harmonica.bouguer_correction` to calculate a topography-free gravity\ndisturbance for Earth using our sample gravity and topography data. One thing to note is\nthat the ETOPO1 topography is referenced to the geoid, not the ellipsoid. Since we want\nto remove the masses between the surface of the Earth and ellipsoid, we need to add the\ngeoid height to the topography before Bouguer correction.\n\n"
      ]
    },
    {
      "cell_type": "code",
      "execution_count": null,
      "metadata": {
        "collapsed": false
      },
      "outputs": [],
      "source": [
        "import matplotlib.pyplot as plt\nimport cartopy.crs as ccrs\nimport xarray as xr\nimport harmonica as hm\n\n# Load the global gravity, topography, and geoid grids\ndata = xr.merge(\n    [\n        hm.datasets.fetch_gravity_earth(),\n        hm.datasets.fetch_geoid_earth(),\n        hm.datasets.fetch_topography_earth(),\n    ]\n)\nprint(data)\n\n# Calculate normal gravity and the disturbance\ngamma = hm.normal_gravity(data.latitude, data.height_over_ell)\ndisturbance = data.gravity - gamma\n\n# Reference the topography to the ellipsoid\ntopography_ell = data.topography + data.geoid\n\n# Calculate the Bouguer planar correction and the topography-free disturbance. Use the\n# default densities for the crust and ocean water.\nbouguer = hm.bouguer_correction(topography_ell)\ndisturbance_topofree = disturbance - bouguer\n\n# Make a plot of data using Cartopy\nplt.figure(figsize=(10, 10))\nax = plt.axes(projection=ccrs.Orthographic(central_longitude=-60))\npc = disturbance_topofree.plot.pcolormesh(\n    ax=ax, transform=ccrs.PlateCarree(), add_colorbar=False\n)\nplt.colorbar(\n    pc, label=\"mGal\", orientation=\"horizontal\", aspect=50, pad=0.01, shrink=0.5\n)\nax.set_title(\"Topography-free (Bouguer) gravity of disturbance of the Earth\")\nax.coastlines()\nplt.tight_layout()\nplt.show()"
      ]
    }
  ],
  "metadata": {
    "kernelspec": {
      "display_name": "Python 3",
      "language": "python",
      "name": "python3"
    },
    "language_info": {
      "codemirror_mode": {
        "name": "ipython",
        "version": 3
      },
      "file_extension": ".py",
      "mimetype": "text/x-python",
      "name": "python",
      "nbconvert_exporter": "python",
      "pygments_lexer": "ipython3",
      "version": "3.6.7"
    }
  },
  "nbformat": 4,
  "nbformat_minor": 0
}