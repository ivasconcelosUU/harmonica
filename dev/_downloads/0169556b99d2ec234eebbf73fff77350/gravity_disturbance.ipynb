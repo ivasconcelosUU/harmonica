{
  "cells": [
    {
      "cell_type": "code",
      "execution_count": null,
      "metadata": {
        "collapsed": false
      },
      "outputs": [],
      "source": [
        "%matplotlib inline"
      ]
    },
    {
      "cell_type": "markdown",
      "metadata": {},
      "source": [
        "\nGravity Disturbances\n====================\n\nGravity disturbances are the differences between the measured gravity and a reference\n(normal) gravity produced by an ellipsoid. The disturbances are what allows\ngeoscientists to infer the internal structure of the Earth. We'll use the\n:func:`harmonica.normal_gravity` function to calculate the global gravity disturbance of\nthe Earth using our sample gravity data.\n\n"
      ]
    },
    {
      "cell_type": "code",
      "execution_count": null,
      "metadata": {
        "collapsed": false
      },
      "outputs": [],
      "source": [
        "import matplotlib.pyplot as plt\nimport cartopy.crs as ccrs\nimport harmonica as hm\n\n# Load the global gravity grid\ndata = hm.datasets.fetch_gravity_earth()\nprint(data)\n\n# Calculate normal gravity and the disturbance\ngamma = hm.normal_gravity(data.latitude, data.height_over_ell)\ndisturbance = data.gravity - gamma\n\n# Make a plot of data using Cartopy\nplt.figure(figsize=(10, 10))\nax = plt.axes(projection=ccrs.Orthographic(central_longitude=160))\npc = disturbance.plot.pcolormesh(\n    ax=ax, transform=ccrs.PlateCarree(), add_colorbar=False, cmap=\"seismic\"\n)\nplt.colorbar(\n    pc, label=\"mGal\", orientation=\"horizontal\", aspect=50, pad=0.01, shrink=0.5\n)\nax.set_title(\"Gravity of disturbance of the Earth\")\nax.coastlines()\nplt.tight_layout()\nplt.show()"
      ]
    }
  ],
  "metadata": {
    "kernelspec": {
      "display_name": "Python 3",
      "language": "python",
      "name": "python3"
    },
    "language_info": {
      "codemirror_mode": {
        "name": "ipython",
        "version": 3
      },
      "file_extension": ".py",
      "mimetype": "text/x-python",
      "name": "python",
      "nbconvert_exporter": "python",
      "pygments_lexer": "ipython3",
      "version": "3.6.7"
    }
  },
  "nbformat": 4,
  "nbformat_minor": 0
}