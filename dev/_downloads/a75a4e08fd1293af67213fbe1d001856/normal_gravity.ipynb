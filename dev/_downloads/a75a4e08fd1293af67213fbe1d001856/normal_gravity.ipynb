{
  "cells": [
    {
      "cell_type": "code",
      "execution_count": null,
      "metadata": {
        "collapsed": false
      },
      "outputs": [],
      "source": [
        "%matplotlib inline"
      ]
    },
    {
      "cell_type": "markdown",
      "metadata": {},
      "source": [
        "\nNormal Gravity\n==============\n\nNormal gravity is defined as the magnitude of the gradient of the gravity potential\n(gravitational + centrifugal) of a reference ellipsoid. Function\n:func:`harmonica.normal_gravity` implements a closed form solution [LiGotze2001]_ to\ncalculate normal gravity at any latitude and height (it's symmetric in the longitudinal\ndirection). The ellipsoid in the calculations used can be changed using\n:func:`harmonica.set_ellipsoid`.\n\n"
      ]
    },
    {
      "cell_type": "code",
      "execution_count": null,
      "metadata": {
        "collapsed": false
      },
      "outputs": [],
      "source": [
        "import matplotlib.pyplot as plt\nimport cartopy.crs as ccrs\nimport harmonica as hm\nimport verde as vd\n\n# Create a global computation grid with 1 degree spacing\nregion = [0, 360, -90, 90]\nlongitude, latitude = vd.grid_coordinates(region, spacing=1)\n\n# Compute normal gravity for the WGS84 ellipsoid (the default) on its surface\ngamma = hm.normal_gravity(latitude=latitude, height=0)\n\n# Make a plot of the normal gravity using Cartopy\nplt.figure(figsize=(10, 10))\nax = plt.axes(projection=ccrs.Orthographic())\nax.set_title(\"Normal gravity of the WGS84 ellipsoid\")\nax.coastlines()\npc = ax.pcolormesh(longitude, latitude, gamma, transform=ccrs.PlateCarree())\nplt.colorbar(\n    pc, label=\"mGal\", orientation=\"horizontal\", aspect=50, pad=0.01, shrink=0.5\n)\nplt.tight_layout()\nplt.show()"
      ]
    }
  ],
  "metadata": {
    "kernelspec": {
      "display_name": "Python 3",
      "language": "python",
      "name": "python3"
    },
    "language_info": {
      "codemirror_mode": {
        "name": "ipython",
        "version": 3
      },
      "file_extension": ".py",
      "mimetype": "text/x-python",
      "name": "python",
      "nbconvert_exporter": "python",
      "pygments_lexer": "ipython3",
      "version": "3.6.7"
    }
  },
  "nbformat": 4,
  "nbformat_minor": 0
}