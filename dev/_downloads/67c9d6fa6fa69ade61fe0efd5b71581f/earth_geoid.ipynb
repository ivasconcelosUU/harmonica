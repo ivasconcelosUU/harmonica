{
  "cells": [
    {
      "cell_type": "code",
      "execution_count": null,
      "metadata": {
        "collapsed": false
      },
      "outputs": [],
      "source": [
        "%matplotlib inline"
      ]
    },
    {
      "cell_type": "markdown",
      "metadata": {},
      "source": [
        "\nEarth Geoid\n===========\n\nThe geoid is the equipotential surface of the Earth's gravity potential that coincides\nwith mean sea level. It's often represented by \"geoid heights\", which indicate the\nheight of the geoid relative to the reference ellipsoid (WGS84 in this case). Negative\nvalues indicate that the geoid is below the ellipsoid surface and positive values that\nit is above. The data are on a regular grid with 0.5 degree spacing and was generated\nfrom the spherical harmonic model EIGEN-6C4 [Forste_etal2014]_.\n\n"
      ]
    },
    {
      "cell_type": "code",
      "execution_count": null,
      "metadata": {
        "collapsed": false
      },
      "outputs": [],
      "source": [
        "import matplotlib.pyplot as plt\nimport cartopy.crs as ccrs\nimport harmonica as hm\n\n# Load the geoid grid\ndata = hm.datasets.fetch_geoid_earth()\nprint(data)\n\n# Make a plot of data using Cartopy\nplt.figure(figsize=(10, 10))\nax = plt.axes(projection=ccrs.Orthographic(central_longitude=100))\npc = data.geoid.plot.pcolormesh(ax=ax, transform=ccrs.PlateCarree(), add_colorbar=False)\nplt.colorbar(\n    pc, label=\"meters\", orientation=\"horizontal\", aspect=50, pad=0.01, shrink=0.6\n)\nax.set_title(\"Geoid heights (EIGEN-6C4)\")\nax.coastlines()\nplt.tight_layout()\nplt.show()"
      ]
    }
  ],
  "metadata": {
    "kernelspec": {
      "display_name": "Python 3",
      "language": "python",
      "name": "python3"
    },
    "language_info": {
      "codemirror_mode": {
        "name": "ipython",
        "version": 3
      },
      "file_extension": ".py",
      "mimetype": "text/x-python",
      "name": "python",
      "nbconvert_exporter": "python",
      "pygments_lexer": "ipython3",
      "version": "3.6.7"
    }
  },
  "nbformat": 4,
  "nbformat_minor": 0
}